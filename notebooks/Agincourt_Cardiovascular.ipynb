{
 "cells": [
  {
   "cell_type": "code",
   "execution_count": 1,
   "metadata": {
    "pycharm": {
     "is_executing": false
    }
   },
   "outputs": [
    {
     "name": "stderr",
     "output_type": "stream",
     "text": [
      "b'Skipping line 109: expected 2 fields, saw 3\\nSkipping line 230: expected 2 fields, saw 3\\nSkipping line 237: expected 2 fields, saw 4\\nSkipping line 279: expected 2 fields, saw 4\\nSkipping line 329: expected 2 fields, saw 3\\nSkipping line 493: expected 2 fields, saw 3\\nSkipping line 509: expected 2 fields, saw 7\\nSkipping line 613: expected 2 fields, saw 3\\nSkipping line 702: expected 2 fields, saw 5\\nSkipping line 837: expected 2 fields, saw 5\\nSkipping line 1042: expected 2 fields, saw 3\\nSkipping line 1120: expected 2 fields, saw 3\\nSkipping line 1450: expected 2 fields, saw 3\\nSkipping line 2260: expected 2 fields, saw 3\\nSkipping line 2364: expected 2 fields, saw 3\\nSkipping line 2441: expected 2 fields, saw 3\\nSkipping line 2568: expected 2 fields, saw 3\\nSkipping line 2590: expected 2 fields, saw 4\\nSkipping line 2618: expected 2 fields, saw 3\\nSkipping line 2676: expected 2 fields, saw 3\\nSkipping line 2866: expected 2 fields, saw 3\\nSkipping line 2897: expected 2 fields, saw 5\\nSkipping line 2964: expected 2 fields, saw 3\\nSkipping line 2970: expected 2 fields, saw 5\\nSkipping line 3024: expected 2 fields, saw 5\\nSkipping line 3041: expected 2 fields, saw 5\\nSkipping line 3149: expected 2 fields, saw 3\\nSkipping line 3194: expected 2 fields, saw 5\\nSkipping line 3244: expected 2 fields, saw 3\\nSkipping line 3277: expected 2 fields, saw 5\\nSkipping line 3334: expected 2 fields, saw 3\\nSkipping line 3419: expected 2 fields, saw 3\\nSkipping line 3440: expected 2 fields, saw 3\\nSkipping line 3534: expected 2 fields, saw 5\\nSkipping line 3547: expected 2 fields, saw 3\\nSkipping line 3557: expected 2 fields, saw 3\\nSkipping line 3562: expected 2 fields, saw 5\\nSkipping line 3578: expected 2 fields, saw 5\\nSkipping line 3600: expected 2 fields, saw 3\\nSkipping line 3603: expected 2 fields, saw 5\\nSkipping line 3607: expected 2 fields, saw 3\\nSkipping line 3613: expected 2 fields, saw 3\\nSkipping line 3631: expected 2 fields, saw 3\\nSkipping line 3643: expected 2 fields, saw 5\\nSkipping line 3675: expected 2 fields, saw 3\\nSkipping line 3679: expected 2 fields, saw 3\\nSkipping line 3689: expected 2 fields, saw 5\\nSkipping line 3693: expected 2 fields, saw 3\\nSkipping line 3705: expected 2 fields, saw 3\\nSkipping line 3724: expected 2 fields, saw 5\\nSkipping line 3744: expected 2 fields, saw 5\\nSkipping line 3755: expected 2 fields, saw 5\\nSkipping line 3774: expected 2 fields, saw 3\\nSkipping line 3789: expected 2 fields, saw 3\\nSkipping line 3793: expected 2 fields, saw 3\\nSkipping line 3904: expected 2 fields, saw 7\\nSkipping line 3921: expected 2 fields, saw 3\\nSkipping line 3922: expected 2 fields, saw 5\\nSkipping line 3924: expected 2 fields, saw 4\\nSkipping line 3927: expected 2 fields, saw 3\\nSkipping line 3996: expected 2 fields, saw 5\\nSkipping line 4003: expected 2 fields, saw 3\\nSkipping line 4004: expected 2 fields, saw 3\\nSkipping line 4088: expected 2 fields, saw 3\\nSkipping line 4289: expected 2 fields, saw 3\\nSkipping line 4301: expected 2 fields, saw 3\\nSkipping line 4307: expected 2 fields, saw 3\\nSkipping line 4633: expected 2 fields, saw 3\\nSkipping line 4636: expected 2 fields, saw 3\\nSkipping line 4663: expected 2 fields, saw 6\\nSkipping line 4712: expected 2 fields, saw 9\\nSkipping line 4719: expected 2 fields, saw 3\\nSkipping line 4727: expected 2 fields, saw 3\\nSkipping line 4760: expected 2 fields, saw 3\\nSkipping line 4823: expected 2 fields, saw 3\\nSkipping line 4844: expected 2 fields, saw 3\\nSkipping line 4856: expected 2 fields, saw 3\\nSkipping line 4891: expected 2 fields, saw 3\\nSkipping line 4896: expected 2 fields, saw 3\\nSkipping line 4928: expected 2 fields, saw 3\\nSkipping line 4929: expected 2 fields, saw 3\\nSkipping line 4990: expected 2 fields, saw 3\\nSkipping line 5207: expected 2 fields, saw 3\\nSkipping line 5221: expected 2 fields, saw 3\\nSkipping line 5366: expected 2 fields, saw 3\\nSkipping line 5557: expected 2 fields, saw 3\\nSkipping line 5577: expected 2 fields, saw 3\\nSkipping line 5615: expected 2 fields, saw 3\\nSkipping line 5641: expected 2 fields, saw 5\\nSkipping line 5666: expected 2 fields, saw 5\\nSkipping line 5812: expected 2 fields, saw 3\\nSkipping line 5833: expected 2 fields, saw 7\\nSkipping line 6190: expected 2 fields, saw 3\\nSkipping line 6316: expected 2 fields, saw 3\\nSkipping line 6364: expected 2 fields, saw 3\\nSkipping line 6542: expected 2 fields, saw 3\\nSkipping line 6842: expected 2 fields, saw 3\\nSkipping line 6851: expected 2 fields, saw 5\\nSkipping line 7039: expected 2 fields, saw 3\\nSkipping line 7087: expected 2 fields, saw 3\\nSkipping line 7102: expected 2 fields, saw 3\\nSkipping line 7136: expected 2 fields, saw 3\\nSkipping line 7147: expected 2 fields, saw 3\\nSkipping line 7169: expected 2 fields, saw 3\\nSkipping line 7173: expected 2 fields, saw 3\\nSkipping line 7218: expected 2 fields, saw 3\\nSkipping line 7239: expected 2 fields, saw 3\\nSkipping line 7294: expected 2 fields, saw 3\\nSkipping line 7319: expected 2 fields, saw 3\\nSkipping line 7383: expected 2 fields, saw 3\\nSkipping line 7416: expected 2 fields, saw 3\\nSkipping line 7436: expected 2 fields, saw 3\\nSkipping line 7518: expected 2 fields, saw 3\\nSkipping line 7744: expected 2 fields, saw 5\\nSkipping line 7771: expected 2 fields, saw 3\\nSkipping line 7778: expected 2 fields, saw 3\\nSkipping line 7781: expected 2 fields, saw 3\\nSkipping line 7800: expected 2 fields, saw 3\\nSkipping line 7819: expected 2 fields, saw 3\\nSkipping line 7823: expected 2 fields, saw 3\\nSkipping line 7827: expected 2 fields, saw 7\\nSkipping line 7829: expected 2 fields, saw 3\\nSkipping line 7838: expected 2 fields, saw 3\\nSkipping line 7844: expected 2 fields, saw 3\\nSkipping line 7888: expected 2 fields, saw 7\\nSkipping line 7913: expected 2 fields, saw 5\\nSkipping line 7916: expected 2 fields, saw 5\\nSkipping line 7919: expected 2 fields, saw 3\\nSkipping line 7927: expected 2 fields, saw 3\\nSkipping line 7950: expected 2 fields, saw 3\\nSkipping line 7988: expected 2 fields, saw 3\\nSkipping line 7994: expected 2 fields, saw 7\\nSkipping line 8013: expected 2 fields, saw 3\\nSkipping line 8068: expected 2 fields, saw 3\\nSkipping line 8322: expected 2 fields, saw 3\\nSkipping line 8416: expected 2 fields, saw 3\\nSkipping line 8475: expected 2 fields, saw 3\\nSkipping line 8480: expected 2 fields, saw 3\\nSkipping line 8495: expected 2 fields, saw 4\\nSkipping line 8518: expected 2 fields, saw 3\\nSkipping line 8526: expected 2 fields, saw 3\\nSkipping line 8661: expected 2 fields, saw 3\\nSkipping line 8678: expected 2 fields, saw 3\\nSkipping line 8758: expected 2 fields, saw 3\\nSkipping line 8908: expected 2 fields, saw 3\\nSkipping line 8950: expected 2 fields, saw 3\\nSkipping line 8959: expected 2 fields, saw 3\\nSkipping line 9720: expected 2 fields, saw 3\\nSkipping line 9739: expected 2 fields, saw 3\\nSkipping line 9916: expected 2 fields, saw 3\\nSkipping line 10030: expected 2 fields, saw 4\\nSkipping line 10052: expected 2 fields, saw 3\\nSkipping line 10056: expected 2 fields, saw 3\\nSkipping line 10068: expected 2 fields, saw 3\\nSkipping line 10099: expected 2 fields, saw 3\\nSkipping line 10190: expected 2 fields, saw 3\\nSkipping line 10205: expected 2 fields, saw 3\\nSkipping line 10323: expected 2 fields, saw 5\\nSkipping line 10332: expected 2 fields, saw 3\\nSkipping line 10347: expected 2 fields, saw 5\\nSkipping line 10358: expected 2 fields, saw 5\\nSkipping line 10372: expected 2 fields, saw 3\\nSkipping line 10375: expected 2 fields, saw 3\\nSkipping line 10377: expected 2 fields, saw 3\\nSkipping line 10527: expected 2 fields, saw 4\\nSkipping line 10557: expected 2 fields, saw 5\\nSkipping line 10572: expected 2 fields, saw 5\\nSkipping line 10577: expected 2 fields, saw 3\\nSkipping line 10579: expected 2 fields, saw 3\\nSkipping line 10590: expected 2 fields, saw 3\\nSkipping line 10616: expected 2 fields, saw 3\\nSkipping line 10622: expected 2 fields, saw 3\\nSkipping line 10624: expected 2 fields, saw 5\\nSkipping line 10824: expected 2 fields, saw 6\\nSkipping line 10847: expected 2 fields, saw 3\\nSkipping line 11050: expected 2 fields, saw 3\\nSkipping line 11190: expected 2 fields, saw 3\\nSkipping line 11197: expected 2 fields, saw 3\\nSkipping line 11214: expected 2 fields, saw 5\\nSkipping line 11244: expected 2 fields, saw 3\\nSkipping line 11264: expected 2 fields, saw 3\\nSkipping line 11266: expected 2 fields, saw 3\\nSkipping line 11268: expected 2 fields, saw 3\\nSkipping line 11300: expected 2 fields, saw 5\\nSkipping line 11362: expected 2 fields, saw 3\\nSkipping line 11390: expected 2 fields, saw 3\\nSkipping line 11407: expected 2 fields, saw 3\\nSkipping line 11445: expected 2 fields, saw 3\\nSkipping line 11452: expected 2 fields, saw 3\\nSkipping line 11608: expected 2 fields, saw 3\\nSkipping line 11654: expected 2 fields, saw 3\\nSkipping line 11825: expected 2 fields, saw 3\\nSkipping line 11864: expected 2 fields, saw 3\\nSkipping line 11950: expected 2 fields, saw 3\\nSkipping line 11997: expected 2 fields, saw 5\\nSkipping line 12004: expected 2 fields, saw 3\\n'\n"
     ]
    }
   ],
   "source": [
    "# importing libraries\n",
    "import sys\n",
    "sys.path.append(\"../src\")\n",
    "\n",
    "import pandas as pd\n",
    "import numpy as np\n",
    "import seaborn as sns\n",
    "import matplotlib.pyplot as plt\n",
    "from awigen_1.Cardiovascular import Cardiovascular\n",
    "from awigen_1.Lifestyle import Lifestyle\n",
    "from awigen_1.Infection import Infection\n",
    "from awigen_1.Health import Health\n",
    "from awigen_1.HealthHistory import HealthHistory\n",
    "from awigen_1.Exposure import Exposure\n",
    "from awigen_1.Crosstabs import Crosstabs\n",
    "sns.set(style=\"white\", context=\"talk\")\n",
    "\n",
    "%matplotlib inline"
   ]
  },
  {
   "cell_type": "code",
   "execution_count": 2,
   "metadata": {
    "pycharm": {
     "is_executing": false,
     "name": "#%%\n"
    }
   },
   "outputs": [
    {
     "ename": "ValueError",
     "evalue": "Passed header names mismatches usecols",
     "output_type": "error",
     "traceback": [
      "\u001b[0;31m---------------------------------------------------------------------------\u001b[0m",
      "\u001b[0;31mValueError\u001b[0m                                Traceback (most recent call last)",
      "\u001b[0;32m<ipython-input-2-e51532992708>\u001b[0m in \u001b[0;36m<module>\u001b[0;34m\u001b[0m\n\u001b[0;32m----> 1\u001b[0;31m \u001b[0mcadiovascular\u001b[0m \u001b[0;34m=\u001b[0m \u001b[0mCardiovascular\u001b[0m\u001b[0;34m(\u001b[0m\u001b[0;34m)\u001b[0m\u001b[0;34m\u001b[0m\u001b[0;34m\u001b[0m\u001b[0m\n\u001b[0m\u001b[1;32m      2\u001b[0m \u001b[0;34m\u001b[0m\u001b[0m\n\u001b[1;32m      3\u001b[0m \u001b[0;31m# data from different sites\u001b[0m\u001b[0;34m\u001b[0m\u001b[0;34m\u001b[0m\u001b[0;34m\u001b[0m\u001b[0m\n\u001b[1;32m      4\u001b[0m \u001b[0magincourt\u001b[0m \u001b[0;34m=\u001b[0m \u001b[0mcadiovascular\u001b[0m\u001b[0;34m.\u001b[0m\u001b[0mget_agincourt\u001b[0m\u001b[0;34m(\u001b[0m\u001b[0;34m)\u001b[0m\u001b[0;34m\u001b[0m\u001b[0;34m\u001b[0m\u001b[0m\n\u001b[1;32m      5\u001b[0m \u001b[0;34m\u001b[0m\u001b[0m\n",
      "\u001b[0;32m~/Documents/Development/AWIGEN-1-Post-QC/src/awigen_1/Cardiovascular.py\u001b[0m in \u001b[0;36m__init__\u001b[0;34m(self)\u001b[0m\n\u001b[1;32m     19\u001b[0m                            \u001b[0merror_bad_lines\u001b[0m\u001b[0;34m=\u001b[0m\u001b[0;32mFalse\u001b[0m\u001b[0;34m,\u001b[0m\u001b[0;34m\u001b[0m\u001b[0;34m\u001b[0m\u001b[0m\n\u001b[1;32m     20\u001b[0m                            \u001b[0mlow_memory\u001b[0m\u001b[0;34m=\u001b[0m\u001b[0;32mFalse\u001b[0m\u001b[0;34m,\u001b[0m\u001b[0;34m\u001b[0m\u001b[0;34m\u001b[0m\u001b[0m\n\u001b[0;32m---> 21\u001b[0;31m                            quoting=csv.QUOTE_NONE)\n\u001b[0m\u001b[1;32m     22\u001b[0m \u001b[0;34m\u001b[0m\u001b[0m\n\u001b[1;32m     23\u001b[0m         \u001b[0mdf\u001b[0m \u001b[0;34m=\u001b[0m \u001b[0;34m[\u001b[0m\u001b[0mx\u001b[0m \u001b[0;32mfor\u001b[0m \u001b[0m_\u001b[0m\u001b[0;34m,\u001b[0m \u001b[0mx\u001b[0m \u001b[0;32min\u001b[0m \u001b[0mdata\u001b[0m\u001b[0;34m.\u001b[0m\u001b[0mgroupby\u001b[0m\u001b[0;34m(\u001b[0m\u001b[0;34m'site_qc'\u001b[0m\u001b[0;34m)\u001b[0m\u001b[0;34m]\u001b[0m\u001b[0;34m\u001b[0m\u001b[0;34m\u001b[0m\u001b[0m\n",
      "\u001b[0;32m~/opt/anaconda3/lib/python3.7/site-packages/pandas/io/parsers.py\u001b[0m in \u001b[0;36mparser_f\u001b[0;34m(filepath_or_buffer, sep, delimiter, header, names, index_col, usecols, squeeze, prefix, mangle_dupe_cols, dtype, engine, converters, true_values, false_values, skipinitialspace, skiprows, skipfooter, nrows, na_values, keep_default_na, na_filter, verbose, skip_blank_lines, parse_dates, infer_datetime_format, keep_date_col, date_parser, dayfirst, cache_dates, iterator, chunksize, compression, thousands, decimal, lineterminator, quotechar, quoting, doublequote, escapechar, comment, encoding, dialect, error_bad_lines, warn_bad_lines, delim_whitespace, low_memory, memory_map, float_precision)\u001b[0m\n\u001b[1;32m    683\u001b[0m         )\n\u001b[1;32m    684\u001b[0m \u001b[0;34m\u001b[0m\u001b[0m\n\u001b[0;32m--> 685\u001b[0;31m         \u001b[0;32mreturn\u001b[0m \u001b[0m_read\u001b[0m\u001b[0;34m(\u001b[0m\u001b[0mfilepath_or_buffer\u001b[0m\u001b[0;34m,\u001b[0m \u001b[0mkwds\u001b[0m\u001b[0;34m)\u001b[0m\u001b[0;34m\u001b[0m\u001b[0;34m\u001b[0m\u001b[0m\n\u001b[0m\u001b[1;32m    686\u001b[0m \u001b[0;34m\u001b[0m\u001b[0m\n\u001b[1;32m    687\u001b[0m     \u001b[0mparser_f\u001b[0m\u001b[0;34m.\u001b[0m\u001b[0m__name__\u001b[0m \u001b[0;34m=\u001b[0m \u001b[0mname\u001b[0m\u001b[0;34m\u001b[0m\u001b[0;34m\u001b[0m\u001b[0m\n",
      "\u001b[0;32m~/opt/anaconda3/lib/python3.7/site-packages/pandas/io/parsers.py\u001b[0m in \u001b[0;36m_read\u001b[0;34m(filepath_or_buffer, kwds)\u001b[0m\n\u001b[1;32m    455\u001b[0m \u001b[0;34m\u001b[0m\u001b[0m\n\u001b[1;32m    456\u001b[0m     \u001b[0;31m# Create the parser.\u001b[0m\u001b[0;34m\u001b[0m\u001b[0;34m\u001b[0m\u001b[0;34m\u001b[0m\u001b[0m\n\u001b[0;32m--> 457\u001b[0;31m     \u001b[0mparser\u001b[0m \u001b[0;34m=\u001b[0m \u001b[0mTextFileReader\u001b[0m\u001b[0;34m(\u001b[0m\u001b[0mfp_or_buf\u001b[0m\u001b[0;34m,\u001b[0m \u001b[0;34m**\u001b[0m\u001b[0mkwds\u001b[0m\u001b[0;34m)\u001b[0m\u001b[0;34m\u001b[0m\u001b[0;34m\u001b[0m\u001b[0m\n\u001b[0m\u001b[1;32m    458\u001b[0m \u001b[0;34m\u001b[0m\u001b[0m\n\u001b[1;32m    459\u001b[0m     \u001b[0;32mif\u001b[0m \u001b[0mchunksize\u001b[0m \u001b[0;32mor\u001b[0m \u001b[0miterator\u001b[0m\u001b[0;34m:\u001b[0m\u001b[0;34m\u001b[0m\u001b[0;34m\u001b[0m\u001b[0m\n",
      "\u001b[0;32m~/opt/anaconda3/lib/python3.7/site-packages/pandas/io/parsers.py\u001b[0m in \u001b[0;36m__init__\u001b[0;34m(self, f, engine, **kwds)\u001b[0m\n\u001b[1;32m    893\u001b[0m             \u001b[0mself\u001b[0m\u001b[0;34m.\u001b[0m\u001b[0moptions\u001b[0m\u001b[0;34m[\u001b[0m\u001b[0;34m\"has_index_names\"\u001b[0m\u001b[0;34m]\u001b[0m \u001b[0;34m=\u001b[0m \u001b[0mkwds\u001b[0m\u001b[0;34m[\u001b[0m\u001b[0;34m\"has_index_names\"\u001b[0m\u001b[0;34m]\u001b[0m\u001b[0;34m\u001b[0m\u001b[0;34m\u001b[0m\u001b[0m\n\u001b[1;32m    894\u001b[0m \u001b[0;34m\u001b[0m\u001b[0m\n\u001b[0;32m--> 895\u001b[0;31m         \u001b[0mself\u001b[0m\u001b[0;34m.\u001b[0m\u001b[0m_make_engine\u001b[0m\u001b[0;34m(\u001b[0m\u001b[0mself\u001b[0m\u001b[0;34m.\u001b[0m\u001b[0mengine\u001b[0m\u001b[0;34m)\u001b[0m\u001b[0;34m\u001b[0m\u001b[0;34m\u001b[0m\u001b[0m\n\u001b[0m\u001b[1;32m    896\u001b[0m \u001b[0;34m\u001b[0m\u001b[0m\n\u001b[1;32m    897\u001b[0m     \u001b[0;32mdef\u001b[0m \u001b[0mclose\u001b[0m\u001b[0;34m(\u001b[0m\u001b[0mself\u001b[0m\u001b[0;34m)\u001b[0m\u001b[0;34m:\u001b[0m\u001b[0;34m\u001b[0m\u001b[0;34m\u001b[0m\u001b[0m\n",
      "\u001b[0;32m~/opt/anaconda3/lib/python3.7/site-packages/pandas/io/parsers.py\u001b[0m in \u001b[0;36m_make_engine\u001b[0;34m(self, engine)\u001b[0m\n\u001b[1;32m   1133\u001b[0m     \u001b[0;32mdef\u001b[0m \u001b[0m_make_engine\u001b[0m\u001b[0;34m(\u001b[0m\u001b[0mself\u001b[0m\u001b[0;34m,\u001b[0m \u001b[0mengine\u001b[0m\u001b[0;34m=\u001b[0m\u001b[0;34m\"c\"\u001b[0m\u001b[0;34m)\u001b[0m\u001b[0;34m:\u001b[0m\u001b[0;34m\u001b[0m\u001b[0;34m\u001b[0m\u001b[0m\n\u001b[1;32m   1134\u001b[0m         \u001b[0;32mif\u001b[0m \u001b[0mengine\u001b[0m \u001b[0;34m==\u001b[0m \u001b[0;34m\"c\"\u001b[0m\u001b[0;34m:\u001b[0m\u001b[0;34m\u001b[0m\u001b[0;34m\u001b[0m\u001b[0m\n\u001b[0;32m-> 1135\u001b[0;31m             \u001b[0mself\u001b[0m\u001b[0;34m.\u001b[0m\u001b[0m_engine\u001b[0m \u001b[0;34m=\u001b[0m \u001b[0mCParserWrapper\u001b[0m\u001b[0;34m(\u001b[0m\u001b[0mself\u001b[0m\u001b[0;34m.\u001b[0m\u001b[0mf\u001b[0m\u001b[0;34m,\u001b[0m \u001b[0;34m**\u001b[0m\u001b[0mself\u001b[0m\u001b[0;34m.\u001b[0m\u001b[0moptions\u001b[0m\u001b[0;34m)\u001b[0m\u001b[0;34m\u001b[0m\u001b[0;34m\u001b[0m\u001b[0m\n\u001b[0m\u001b[1;32m   1136\u001b[0m         \u001b[0;32melse\u001b[0m\u001b[0;34m:\u001b[0m\u001b[0;34m\u001b[0m\u001b[0;34m\u001b[0m\u001b[0m\n\u001b[1;32m   1137\u001b[0m             \u001b[0;32mif\u001b[0m \u001b[0mengine\u001b[0m \u001b[0;34m==\u001b[0m \u001b[0;34m\"python\"\u001b[0m\u001b[0;34m:\u001b[0m\u001b[0;34m\u001b[0m\u001b[0;34m\u001b[0m\u001b[0m\n",
      "\u001b[0;32m~/opt/anaconda3/lib/python3.7/site-packages/pandas/io/parsers.py\u001b[0m in \u001b[0;36m__init__\u001b[0;34m(self, src, **kwds)\u001b[0m\n\u001b[1;32m   1915\u001b[0m         \u001b[0mkwds\u001b[0m\u001b[0;34m[\u001b[0m\u001b[0;34m\"usecols\"\u001b[0m\u001b[0;34m]\u001b[0m \u001b[0;34m=\u001b[0m \u001b[0mself\u001b[0m\u001b[0;34m.\u001b[0m\u001b[0musecols\u001b[0m\u001b[0;34m\u001b[0m\u001b[0;34m\u001b[0m\u001b[0m\n\u001b[1;32m   1916\u001b[0m \u001b[0;34m\u001b[0m\u001b[0m\n\u001b[0;32m-> 1917\u001b[0;31m         \u001b[0mself\u001b[0m\u001b[0;34m.\u001b[0m\u001b[0m_reader\u001b[0m \u001b[0;34m=\u001b[0m \u001b[0mparsers\u001b[0m\u001b[0;34m.\u001b[0m\u001b[0mTextReader\u001b[0m\u001b[0;34m(\u001b[0m\u001b[0msrc\u001b[0m\u001b[0;34m,\u001b[0m \u001b[0;34m**\u001b[0m\u001b[0mkwds\u001b[0m\u001b[0;34m)\u001b[0m\u001b[0;34m\u001b[0m\u001b[0;34m\u001b[0m\u001b[0m\n\u001b[0m\u001b[1;32m   1918\u001b[0m         \u001b[0mself\u001b[0m\u001b[0;34m.\u001b[0m\u001b[0munnamed_cols\u001b[0m \u001b[0;34m=\u001b[0m \u001b[0mself\u001b[0m\u001b[0;34m.\u001b[0m\u001b[0m_reader\u001b[0m\u001b[0;34m.\u001b[0m\u001b[0munnamed_cols\u001b[0m\u001b[0;34m\u001b[0m\u001b[0;34m\u001b[0m\u001b[0m\n\u001b[1;32m   1919\u001b[0m \u001b[0;34m\u001b[0m\u001b[0m\n",
      "\u001b[0;32mpandas/_libs/parsers.pyx\u001b[0m in \u001b[0;36mpandas._libs.parsers.TextReader.__cinit__\u001b[0;34m()\u001b[0m\n",
      "\u001b[0;32mpandas/_libs/parsers.pyx\u001b[0m in \u001b[0;36mpandas._libs.parsers.TextReader._get_header\u001b[0;34m()\u001b[0m\n",
      "\u001b[0;31mValueError\u001b[0m: Passed header names mismatches usecols"
     ]
    }
   ],
   "source": [
    "cadiovascular = Cardiovascular()\n",
    "\n",
    "# data from different sites\n",
    "agincourt = cadiovascular.get_agincourt()\n",
    "\n",
    "# initialize crosstabs for each site\n",
    "agincourt_crosstabs = Crosstabs.Crosstabs(agincourt)"
   ]
  },
  {
   "cell_type": "code",
   "execution_count": null,
   "metadata": {},
   "outputs": [],
   "source": [
    "agincourt"
   ]
  },
  {
   "cell_type": "code",
   "execution_count": null,
   "metadata": {
    "pycharm": {
     "is_executing": false,
     "name": "#%%\n"
    }
   },
   "outputs": [],
   "source": [
    "bins = [0, 39, 60, 70, 150]\n",
    "labels = ['0-39', '40-60', '61-70', '70 plus']\n",
    "agincourt['age_categories'] = pd.cut(agincourt['age'], bins=bins, labels=labels)"
   ]
  },
  {
   "cell_type": "code",
   "execution_count": null,
   "metadata": {
    "pycharm": {
     "is_executing": false,
     "name": "#%%\n"
    }
   },
   "outputs": [],
   "source": [
    "list_of_cols = [c for c in list(agincourt.columns) if c not in ['age', 'site_qc', 'cohort_id_c', 'sex']]\n",
    "print(list_of_cols)"
   ]
  },
  {
   "cell_type": "code",
   "execution_count": null,
   "metadata": {
    "pycharm": {
     "is_executing": false
    }
   },
   "outputs": [],
   "source": [
    "agincourt_crosstabs.get_counts_cross_tabs(list_of_cols, 'age_categories')\n",
    "# agincourt_crosstabs.get_counts_cross_tabs(list_of_cols, 'sex')"
   ]
  },
  {
   "cell_type": "code",
   "execution_count": null,
   "metadata": {
    "pycharm": {
     "is_executing": false,
     "name": "#%%\n"
    }
   },
   "outputs": [],
   "source": [
    "# missing_bmi = agincourt[agincourt.bmi_qc == -999]\n",
    "# print(\"Agincourt missing bmi: \", missing_bmi['bmi_qc'].shape[0])\n",
    "# \n",
    "# bmi_qc = agincourt[agincourt.bmi_qc >= 0]\n",
    "# print(\"Agincourt with bmi: \", bmi_qc['bmi_qc'].shape[0] , \"\\n\")\n",
    "# print(bmi_qc['bmi_qc'].describe())\n",
    "# \n",
    "# sns.catplot(x=\"age_categories\", y=\"bmi_qc\", hue=\"sex\",\n",
    "#             kind=\"boxen\", data=bmi_qc);"
   ]
  }
 ],
 "metadata": {
  "kernelspec": {
   "display_name": "Python 3",
   "language": "python",
   "name": "python3"
  },
  "language_info": {
   "codemirror_mode": {
    "name": "ipython",
    "version": 3
   },
   "file_extension": ".py",
   "mimetype": "text/x-python",
   "name": "python",
   "nbconvert_exporter": "python",
   "pygments_lexer": "ipython3",
   "version": "3.7.4"
  },
  "pycharm": {
   "stem_cell": {
    "cell_type": "raw",
    "metadata": {
     "collapsed": false
    },
    "source": []
   }
  },
  "varInspector": {
   "cols": {
    "lenName": 16,
    "lenType": 16,
    "lenVar": 40
   },
   "kernels_config": {
    "python": {
     "delete_cmd_postfix": "",
     "delete_cmd_prefix": "del ",
     "library": "var_list.py",
     "varRefreshCmd": "print(var_dic_list())"
    },
    "r": {
     "delete_cmd_postfix": ") ",
     "delete_cmd_prefix": "rm(",
     "library": "var_list.r",
     "varRefreshCmd": "cat(var_dic_list()) "
    }
   },
   "types_to_exclude": [
    "module",
    "function",
    "builtin_function_or_method",
    "instance",
    "_Feature"
   ],
   "window_display": false
  }
 },
 "nbformat": 4,
 "nbformat_minor": 2
}
