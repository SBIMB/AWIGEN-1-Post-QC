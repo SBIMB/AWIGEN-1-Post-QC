{
 "cells": [
  {
   "cell_type": "code",
   "execution_count": 1,
   "metadata": {},
   "outputs": [],
   "source": [
    "import sys\n",
    "sys.path.append(\"../src\")\n",
    "\n",
    "from awigen_1.config import awigen_1_data"
   ]
  },
  {
   "cell_type": "code",
   "execution_count": 32,
   "metadata": {},
   "outputs": [
    {
     "name": "stderr",
     "output_type": "stream",
     "text": [
      "b'Skipping line 32: expected 915 fields, saw 916\\nSkipping line 182: expected 915 fields, saw 931\\nSkipping line 283: expected 915 fields, saw 916\\nSkipping line 648: expected 915 fields, saw 916\\nSkipping line 811: expected 915 fields, saw 917\\nSkipping line 1308: expected 915 fields, saw 916\\nSkipping line 1325: expected 915 fields, saw 916\\nSkipping line 1338: expected 915 fields, saw 916\\nSkipping line 1349: expected 915 fields, saw 916\\nSkipping line 1355: expected 915 fields, saw 918\\nSkipping line 1396: expected 915 fields, saw 917\\nSkipping line 1400: expected 915 fields, saw 916\\nSkipping line 1422: expected 915 fields, saw 916\\nSkipping line 1429: expected 915 fields, saw 916\\nSkipping line 1436: expected 915 fields, saw 916\\nSkipping line 1447: expected 915 fields, saw 916\\nSkipping line 1475: expected 915 fields, saw 916\\nSkipping line 1483: expected 915 fields, saw 916\\nSkipping line 1491: expected 915 fields, saw 916\\nSkipping line 1508: expected 915 fields, saw 916\\nSkipping line 1510: expected 915 fields, saw 917\\nSkipping line 1521: expected 915 fields, saw 916\\nSkipping line 1527: expected 915 fields, saw 916\\nSkipping line 1537: expected 915 fields, saw 916\\nSkipping line 1549: expected 915 fields, saw 916\\nSkipping line 1558: expected 915 fields, saw 931\\nSkipping line 1572: expected 915 fields, saw 916\\nSkipping line 1597: expected 915 fields, saw 916\\nSkipping line 1638: expected 915 fields, saw 916\\nSkipping line 1653: expected 915 fields, saw 916\\nSkipping line 1665: expected 915 fields, saw 917\\nSkipping line 1706: expected 915 fields, saw 916\\nSkipping line 1712: expected 915 fields, saw 916\\nSkipping line 1735: expected 915 fields, saw 916\\nSkipping line 1740: expected 915 fields, saw 917\\nSkipping line 1744: expected 915 fields, saw 916\\nSkipping line 1746: expected 915 fields, saw 916\\nSkipping line 1752: expected 915 fields, saw 916\\nSkipping line 1766: expected 915 fields, saw 916\\nSkipping line 1768: expected 915 fields, saw 916\\nSkipping line 1782: expected 915 fields, saw 916\\nSkipping line 1784: expected 915 fields, saw 917\\nSkipping line 1789: expected 915 fields, saw 916\\nSkipping line 1792: expected 915 fields, saw 916\\nSkipping line 1796: expected 915 fields, saw 916\\nSkipping line 1799: expected 915 fields, saw 916\\nSkipping line 1815: expected 915 fields, saw 916\\nSkipping line 1821: expected 915 fields, saw 917\\nSkipping line 1828: expected 915 fields, saw 916\\nSkipping line 1839: expected 915 fields, saw 916\\nSkipping line 1853: expected 915 fields, saw 916\\nSkipping line 1854: expected 915 fields, saw 916\\nSkipping line 1878: expected 915 fields, saw 917\\nSkipping line 1899: expected 915 fields, saw 916\\nSkipping line 1915: expected 915 fields, saw 916\\nSkipping line 1938: expected 915 fields, saw 917\\nSkipping line 1975: expected 915 fields, saw 916\\nSkipping line 1981: expected 915 fields, saw 916\\nSkipping line 1991: expected 915 fields, saw 916\\nSkipping line 2011: expected 915 fields, saw 916\\nSkipping line 2027: expected 915 fields, saw 916\\nSkipping line 2058: expected 915 fields, saw 916\\nSkipping line 2061: expected 915 fields, saw 916\\nSkipping line 2102: expected 915 fields, saw 916\\nSkipping line 2303: expected 915 fields, saw 916\\nSkipping line 2309: expected 915 fields, saw 916\\nSkipping line 2313: expected 915 fields, saw 916\\nSkipping line 2333: expected 915 fields, saw 916\\nSkipping line 2365: expected 915 fields, saw 916\\nSkipping line 2474: expected 915 fields, saw 916\\nSkipping line 2486: expected 915 fields, saw 916\\nSkipping line 2502: expected 915 fields, saw 916\\nSkipping line 2524: expected 915 fields, saw 916\\nSkipping line 2530: expected 915 fields, saw 916\\nSkipping line 2585: expected 915 fields, saw 916\\nSkipping line 2617: expected 915 fields, saw 916\\nSkipping line 2637: expected 915 fields, saw 916\\nSkipping line 2749: expected 915 fields, saw 917\\nSkipping line 2816: expected 915 fields, saw 916\\nSkipping line 3204: expected 915 fields, saw 916\\nSkipping line 3282: expected 915 fields, saw 916\\nSkipping line 3316: expected 915 fields, saw 917\\nSkipping line 3348: expected 915 fields, saw 916\\nSkipping line 3350: expected 915 fields, saw 916\\nSkipping line 3360: expected 915 fields, saw 916\\nSkipping line 3373: expected 915 fields, saw 916\\nSkipping line 3375: expected 915 fields, saw 916\\nSkipping line 3381: expected 915 fields, saw 916\\nSkipping line 3444: expected 915 fields, saw 916\\nSkipping line 3448: expected 915 fields, saw 916\\nSkipping line 3466: expected 915 fields, saw 916\\nSkipping line 3479: expected 915 fields, saw 916\\nSkipping line 3482: expected 915 fields, saw 916\\nSkipping line 3506: expected 915 fields, saw 917\\nSkipping line 3590: expected 915 fields, saw 916\\nSkipping line 3813: expected 915 fields, saw 916\\nSkipping line 4046: expected 915 fields, saw 916\\nSkipping line 4174: expected 915 fields, saw 916\\nSkipping line 4180: expected 915 fields, saw 916\\nSkipping line 4201: expected 915 fields, saw 916\\nSkipping line 4334: expected 915 fields, saw 916\\nSkipping line 4540: expected 915 fields, saw 916\\nSkipping line 4549: expected 915 fields, saw 916\\nSkipping line 5066: expected 915 fields, saw 916\\nSkipping line 5099: expected 915 fields, saw 917\\nSkipping line 5102: expected 915 fields, saw 916\\nSkipping line 5142: expected 915 fields, saw 916\\nSkipping line 5191: expected 915 fields, saw 916\\nSkipping line 5490: expected 915 fields, saw 916\\nSkipping line 5505: expected 915 fields, saw 917\\nSkipping line 6200: expected 915 fields, saw 916\\nSkipping line 6276: expected 915 fields, saw 916\\nSkipping line 6288: expected 915 fields, saw 916\\nSkipping line 6291: expected 915 fields, saw 916\\nSkipping line 6302: expected 915 fields, saw 916\\nSkipping line 6363: expected 915 fields, saw 916\\nSkipping line 6393: expected 915 fields, saw 917\\nSkipping line 6397: expected 915 fields, saw 917\\nSkipping line 6444: expected 915 fields, saw 916\\nSkipping line 6450: expected 915 fields, saw 917\\nSkipping line 6468: expected 915 fields, saw 916\\nSkipping line 6504: expected 915 fields, saw 916\\nSkipping line 6518: expected 915 fields, saw 918\\nSkipping line 6523: expected 915 fields, saw 916\\nSkipping line 6567: expected 915 fields, saw 916\\nSkipping line 6599: expected 915 fields, saw 916\\nSkipping line 6655: expected 915 fields, saw 916\\nSkipping line 6662: expected 915 fields, saw 916\\nSkipping line 6666: expected 915 fields, saw 917\\nSkipping line 6667: expected 915 fields, saw 916\\nSkipping line 6670: expected 915 fields, saw 916\\nSkipping line 6673: expected 915 fields, saw 916\\nSkipping line 6674: expected 915 fields, saw 916\\nSkipping line 6678: expected 915 fields, saw 916\\nSkipping line 6723: expected 915 fields, saw 916\\nSkipping line 6728: expected 915 fields, saw 917\\nSkipping line 6743: expected 915 fields, saw 916\\nSkipping line 6752: expected 915 fields, saw 917\\nSkipping line 6755: expected 915 fields, saw 917\\nSkipping line 6757: expected 915 fields, saw 916\\nSkipping line 6764: expected 915 fields, saw 916\\nSkipping line 6803: expected 915 fields, saw 917\\nSkipping line 6831: expected 915 fields, saw 916\\nSkipping line 6965: expected 915 fields, saw 916\\nSkipping line 7285: expected 915 fields, saw 916\\nSkipping line 7290: expected 915 fields, saw 916\\nSkipping line 7294: expected 915 fields, saw 916\\nSkipping line 7301: expected 915 fields, saw 916\\nSkipping line 7322: expected 915 fields, saw 917\\nSkipping line 7329: expected 915 fields, saw 916\\nSkipping line 7345: expected 915 fields, saw 916\\nSkipping line 7413: expected 915 fields, saw 917\\nSkipping line 7414: expected 915 fields, saw 916\\nSkipping line 7421: expected 915 fields, saw 916\\nSkipping line 7495: expected 915 fields, saw 916\\nSkipping line 7504: expected 915 fields, saw 916\\nSkipping line 7525: expected 915 fields, saw 916\\nSkipping line 7527: expected 915 fields, saw 916\\nSkipping line 7672: expected 915 fields, saw 916\\nSkipping line 8014: expected 915 fields, saw 916\\nSkipping line 8784: expected 915 fields, saw 916\\nSkipping line 8824: expected 915 fields, saw 916\\nSkipping line 8870: expected 915 fields, saw 916\\nSkipping line 9033: expected 915 fields, saw 919\\nSkipping line 9273: expected 915 fields, saw 916\\nSkipping line 9505: expected 915 fields, saw 916\\nSkipping line 9644: expected 915 fields, saw 916\\nSkipping line 10623: expected 915 fields, saw 916\\nSkipping line 10733: expected 915 fields, saw 916\\nSkipping line 10740: expected 915 fields, saw 916\\nSkipping line 10764: expected 915 fields, saw 916\\nSkipping line 10869: expected 915 fields, saw 916\\nSkipping line 10883: expected 915 fields, saw 917\\nSkipping line 10896: expected 915 fields, saw 916\\nSkipping line 10923: expected 915 fields, saw 916\\nSkipping line 10927: expected 915 fields, saw 916\\nSkipping line 10951: expected 915 fields, saw 916\\nSkipping line 10954: expected 915 fields, saw 916\\nSkipping line 11262: expected 915 fields, saw 917\\nSkipping line 11263: expected 915 fields, saw 916\\nSkipping line 11425: expected 915 fields, saw 916\\nSkipping line 11471: expected 915 fields, saw 916\\nSkipping line 11473: expected 915 fields, saw 916\\nSkipping line 11505: expected 915 fields, saw 917\\nSkipping line 11556: expected 915 fields, saw 917\\nSkipping line 11570: expected 915 fields, saw 916\\nSkipping line 11893: expected 915 fields, saw 917\\n'\n"
     ]
    }
   ],
   "source": [
    "from pathlib import Path\n",
    "import pandas as pd\n",
    "\n",
    "\n",
    "#this a global variable\n",
    "processed_data_dir = Path(\"../data/processed\")\n",
    "\n",
    "data_link = processed_data_dir/'all_sites_v2.5.3.22.csv'\n",
    "\n",
    "awigen_1_data = pd.read_csv(data_link, sep=',', error_bad_lines=False, low_memory=False)"
   ]
  },
  {
   "cell_type": "code",
   "execution_count": null,
   "metadata": {},
   "outputs": [],
   "source": []
  }
 ],
 "metadata": {
  "kernelspec": {
   "display_name": "Python 3",
   "language": "python",
   "name": "python3"
  },
  "language_info": {
   "codemirror_mode": {
    "name": "ipython",
    "version": 3
   },
   "file_extension": ".py",
   "mimetype": "text/x-python",
   "name": "python",
   "nbconvert_exporter": "python",
   "pygments_lexer": "ipython3",
   "version": "3.6.1"
  }
 },
 "nbformat": 4,
 "nbformat_minor": 2
}
