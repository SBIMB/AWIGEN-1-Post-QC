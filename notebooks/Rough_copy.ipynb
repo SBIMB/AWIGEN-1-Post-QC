{
 "cells": [
  {
   "cell_type": "code",
   "execution_count": 41,
   "metadata": {},
   "outputs": [],
   "source": [
    "# importing libraries\n",
    "import sys\n",
    "import csv\n",
    "import pandas as pd\n",
    "import numpy as np\n",
    "import seaborn as sns\n",
    "from io import StringIO\n",
    "import matplotlib.pyplot as plt\n",
    "from scripts import All_Instruments\n",
    "from scripts import QC_Columns\n",
    "from scripts import Crosstabs\n",
    "sns.set(style=\"white\", context=\"talk\")\n",
    "\n",
    "%matplotlib inline"
   ]
  },
  {
   "cell_type": "code",
   "execution_count": 108,
   "metadata": {},
   "outputs": [
    {
     "data": {
      "text/plain": [
       "(12003, 915)"
      ]
     },
     "execution_count": 108,
     "metadata": {},
     "output_type": "execute_result"
    }
   ],
   "source": [
    "data = pd.read_csv(data_link, low_memory=False)\n",
    "data = data[data.site != 0]\n",
    "data.shape"
   ]
  },
  {
   "cell_type": "code",
   "execution_count": 100,
   "metadata": {},
   "outputs": [
    {
     "data": {
      "text/plain": [
       "0"
      ]
     },
     "execution_count": 100,
     "metadata": {},
     "output_type": "execute_result"
    }
   ],
   "source": [
    "nrecords = 12003\n",
    "nrows_skipped = nrecords - data.shape[0]\n",
    "nrows_skipped"
   ]
  },
  {
   "cell_type": "code",
   "execution_count": 106,
   "metadata": {},
   "outputs": [
    {
     "data": {
      "text/plain": [
       "1    2482\n",
       "4    2090\n",
       "6    2027\n",
       "5    2006\n",
       "3    2001\n",
       "2    1397\n",
       "Name: site, dtype: int64"
      ]
     },
     "execution_count": 106,
     "metadata": {},
     "output_type": "execute_result"
    }
   ],
   "source": [
    "data.site.value_counts()"
   ]
  },
  {
   "cell_type": "code",
   "execution_count": 107,
   "metadata": {},
   "outputs": [
    {
     "data": {
      "text/plain": [
       "Agincourt    2482\n",
       "Nanoro       2090\n",
       "SOWETO       2027\n",
       "Navrongo     2006\n",
       "Nairobi      2001\n",
       "Dikgale      1397\n",
       "Name: site_qc, dtype: int64"
      ]
     },
     "execution_count": 107,
     "metadata": {},
     "output_type": "execute_result"
    }
   ],
   "source": [
    "data.site_qc.value_counts()"
   ]
  },
  {
   "cell_type": "code",
   "execution_count": 101,
   "metadata": {},
   "outputs": [],
   "source": [
    "codebook = QC_Columns.CodeBook()\n",
    "demography = codebook.get_demographic_cols()"
   ]
  },
  {
   "cell_type": "code",
   "execution_count": null,
   "metadata": {
    "collapsed": true
   },
   "outputs": [],
   "source": [
    "all = All_Instruments.All()\n",
    "\n",
    "# data from different sites\n",
    "data = all.get_all_sites()\n",
    "\n",
    "# initialize crosstabs for each site\n",
    "data_crosstabs = Crosstabs.Crosstabs(data)\n",
    "\n",
    "#%%\n",
    "\n",
    "bins = [0, 39, 60, 70, 150]\n",
    "labels = ['0-39', '40-60', '61-70', '70 plus']\n",
    "data['age_categories'] = pd.cut(data['age'], bins=bins, labels=labels)\n",
    "\n",
    "#%%\n",
    "\n",
    "data_crosstabs.get_counts_cross_tabs(codebook.get_lifestyle_cols(), 'age_categories')\n",
    "\n",
    "#%%\n",
    "\n",
    "data_crosstabs.get_counts_cross_tabs(codebook.get_exposure_cols(), 'age_categories')\n",
    "\n",
    "#%%"
   ]
  }
 ],
 "metadata": {
  "kernelspec": {
   "display_name": "Python 3",
   "language": "python",
   "name": "python3"
  },
  "language_info": {
   "codemirror_mode": {
    "name": "ipython",
    "version": 3
   },
   "file_extension": ".py",
   "mimetype": "text/x-python",
   "name": "python",
   "nbconvert_exporter": "python",
   "pygments_lexer": "ipython3",
   "version": "3.6.1"
  },
  "varInspector": {
   "cols": {
    "lenName": 16,
    "lenType": 16,
    "lenVar": 40
   },
   "kernels_config": {
    "python": {
     "delete_cmd_postfix": "",
     "delete_cmd_prefix": "del ",
     "library": "var_list.py",
     "varRefreshCmd": "print(var_dic_list())"
    },
    "r": {
     "delete_cmd_postfix": ") ",
     "delete_cmd_prefix": "rm(",
     "library": "var_list.r",
     "varRefreshCmd": "cat(var_dic_list()) "
    }
   },
   "types_to_exclude": [
    "module",
    "function",
    "builtin_function_or_method",
    "instance",
    "_Feature"
   ],
   "window_display": false
  }
 },
 "nbformat": 4,
 "nbformat_minor": 1
}
