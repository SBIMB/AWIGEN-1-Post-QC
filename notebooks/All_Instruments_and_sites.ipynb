{
 "cells": [
  {
   "cell_type": "code",
   "execution_count": 1,
   "metadata": {
    "pycharm": {
     "is_executing": false
    }
   },
   "outputs": [
    {
     "name": "stdout",
     "text": [
      "(12003, 915)\n"
     ],
     "output_type": "stream"
    }
   ],
   "source": [
    "# importing libraries\n",
    "import sys\n",
    "import pandas as pd\n",
    "import seaborn as sns\n",
    "from scripts import All_Instruments\n",
    "from scripts import QC_Columns\n",
    "from scripts import Crosstabs\n",
    "sns.set(style=\"white\", context=\"talk\")\n",
    "\n",
    "%matplotlib inline"
   ]
  },
  {
   "cell_type": "code",
   "execution_count": 5,
   "metadata": {
    "pycharm": {
     "is_executing": false,
     "name": "#%%\n"
    }
   },
   "outputs": [],
   "source": [
    "codebook = QC_Columns.CodeBook()\n",
    "demography = codebook.get_demographic_cols()\n",
    "\n",
    "# data from different sites\n",
    "all = All_Instruments.All()\n",
    "data = all.get_all_sites()\n",
    "\n",
    "# initialize crosstabs for each site\n",
    "data_crosstabs = Crosstabs.Crosstabs(data)"
   ]
  },
  {
   "cell_type": "code",
   "execution_count": 6,
   "outputs": [
    {
     "data": {
      "text/plain": "(12003, 915)"
     },
     "metadata": {},
     "output_type": "execute_result",
     "execution_count": 6
    }
   ],
   "source": [
    "data.shape"
   ],
   "metadata": {
    "collapsed": false,
    "pycharm": {
     "name": "#%%\n",
     "is_executing": false
    }
   }
  },
  {
   "cell_type": "code",
   "execution_count": 7,
   "metadata": {
    "pycharm": {
     "is_executing": false,
     "name": "#%%\n"
    }
   },
   "outputs": [
    {
     "name": "stderr",
     "text": [
      "c:\\users\\henry\\appdata\\local\\programs\\python\\python36\\lib\\site-packages\\ipykernel_launcher.py:3: SettingWithCopyWarning: \nA value is trying to be set on a copy of a slice from a DataFrame.\nTry using .loc[row_indexer,col_indexer] = value instead\n\nSee the caveats in the documentation: http://pandas.pydata.org/pandas-docs/stable/indexing.html#indexing-view-versus-copy\n  This is separate from the ipykernel package so we can avoid doing imports until\n"
     ],
     "output_type": "stream"
    }
   ],
   "source": [
    "bins = [0, 39, 60, 70, 150]\n",
    "labels = ['0-39', '40-60', '61-70', '70 plus']\n",
    "data['age_categories'] = pd.cut(data['age'], bins=bins, labels=labels)"
   ]
  },
  {
   "cell_type": "code",
   "execution_count": 8,
   "metadata": {
    "pycharm": {
     "is_executing": false,
     "name": "#%%\n"
    }
   },
   "outputs": [
    {
     "name": "stdout",
     "text": [
      "_____________ site_qc ____________\nsite_qc         Agincourt  Dikgale  Nairobi  Nanoro  Navrongo  SOWETO  Total\nage_categories                                                              \n0-39                    0       44        9       8         0       3    529\n40-60                1462     1166     1940    2077      2004    2023     64\n61-70                 520      158       52       5         2       1  10672\n70 plus               500       29        0       0         0       0    738\nTotal                2482     1397     2001    2090      2006    2027  12003\n\n\n\n_____________ cohort_id_c ____________\ncohort_id_c     Agincourt_40to60  Agincourt_61to70  Agincourt_71plus  BARA  \\\nage_categories                                                               \n0-39                           0                 0                 0     1   \n40-60                       1462                 0                 0   307   \n61-70                          0               520                 0     0   \n70 plus                        0                 0               500     0   \nTotal                       1462               520               500   308   \n\ncohort_id_c     SWEET  Total  \nage_categories                \n0-39                0    500  \n40-60             693      1  \n61-70               1   2462  \n70 plus             0    521  \nTotal             694   3484  \n\n\n\n_____________ age ____________\n",
      "age             29  31  34  35  36  37  38  39   40   41  ...    74  75  76  \\\nage_categories                                            ...                 \n0-39             1   1   1   7   3   5  12  34    0    0  ...     0   0   0   \n40-60            0   0   0   0   0   0   0   0  287  507  ...     0   0   0   \n61-70            0   0   0   0   0   0   0   0    0    0  ...     0   0   0   \n70 plus          0   0   0   0   0   0   0   0    0    0  ...    66  72  58   \nTotal            1   1   1   7   3   5  12  34  287  507  ...    66  72  58   \n\nage             77  78  79  80  81  82  Total  \nage_categories                                 \n0-39             0   0   0   0   0   0    529  \n40-60            0   0   0   0   0   0     64  \n61-70            0   0   0   0   0   0  10672  \n70 plus         53  36  33  21   2   1    738  \nTotal           53  36  33  21   2   1  12003  \n\n[5 rows x 52 columns]\n\n\n\n_____________ sex ____________\nsex              0.0   1.0  Total\nage_categories                   \n0-39              38    26    529\n40-60           5877  4795     64\n61-70            407   331  10672\n70 plus          289   240    738\nTotal           6611  5392  12003\n\n\n\n_____________ tobacco_use_qc ____________\ntobacco_use_qc  -999.0   0.0   1.0  Total\nage_categories                           \n0-39                 0    43    21    529\n40-60                9  7757  2906     64\n61-70                0   525   213  10672\n70 plus              0   424   105    738\nTotal                9  8749  3245  12003\n\n\n\n_____________ current_smoker_qc ____________\ncurrent_smoker_qc  -999.0  -555.0   0.0   1.0  Total\nage_categories                                      \n0-39                    0      43     3    18    529\n40-60                  14    7759  1113  1779     64\n61-70                   0     525   135    78  10665\n70 plus                 0     424    78    27    738\nTotal                  14    8751  1329  1902  11996\n\n\n\n_____________ what_smoke_cigarettes_qc ____________\n",
      "what_smoke_cigarettes_qc  -555.0  0.0   1.0  Total\nage_categories                                    \n0-39                          46    4    14    529\n40-60                       8886  425  1361     64\n61-70                        660   64    14  10672\n70 plus                      502   27     0    738\nTotal                      10094  520  1389  12003\n\n\n\n_____________ what_smoke_pipe_qc ____________\nwhat_smoke_pipe_qc   -555     0   1  Total\nage_categories                            \n0-39                   46    16   2    529\n40-60                8886  1732  54     64\n61-70                 660    72   6  10672\n70 plus               502    27   0    738\nTotal               10094  1847  62  12003\n\n\n\n_____________ what_smoke_hand_rolled_qc ____________\nwhat_smoke_hand_rolled_qc  -999.0  -555.0   0.0  1.0  Total\nage_categories                                             \n0-39                            2      46    14    2    529\n40-60                         588    8886   933  258     64\n61-70                           0     660    67   11  10665\n70 plus                         0     502    25    2    738\nTotal                         590   10094  1039  273  11996\n\n\n\n_____________ what_smoke_cigars_qc ____________\n",
      "what_smoke_cigars_qc  -999.0  -555.0   0.0  1.0  Total\nage_categories                                        \n0-39                       2      46    16    0    529\n40-60                    588    8886  1189    2     64\n61-70                      0     660    78    0  10665\n70 plus                    0     502    27    0    738\nTotal                    590   10094  1310    2  11996\n\n\n\n_____________ what_smoke_e_cigarettes_qc ____________\nwhat_smoke_e_cigarettes_qc  -999.0  -555.0   0.0  Total\nage_categories                                         \n0-39                             2      46    16    529\n40-60                          588    8886  1191     64\n61-70                            0     660    78  10665\n70 plus                          0     502    27    738\nTotal                          590   10094  1312  11996\n\n\n\n_____________ smoking_frequence_qc ____________\nsmoking_frequence_qc  -999.0  -555.0  1.0  2.0  3.0  4.0  5.0  Total\nage_categories                                                      \n0-39                       2      46   16    0    0    0    0    529\n40-60                    757    8886  901   29   77   11    4     64\n61-70                     46     660   26    1    4    0    1  10665\n70 plus                   25     502    2    0    0    0    0    738\nTotal                    830   10094  945   30   81   11    5  11996\n\n\n\n_____________ smoke_per_day_qc ____________\n",
      "smoke_per_day_qc  -999.0  -555.0  1.0  2.0  3.0  4.0  5.0  6.0  7.0  8.0  \\\nage_categories                                                             \n0-39                   0      46    2    4    2    2    3    1    0    0   \n40-60                 36    8886  254  216  220  187  177  130   59   64   \n61-70                  0     660   37    8   10    6   10    1    2    0   \n70 plus                0     502   17    4    2    3    1    0    0    0   \nTotal                 36   10094  310  232  234  198  191  132   61   64   \n\nsmoke_per_day_qc  ...    30.0  35.0  40.0  42.0  48.0  50.0  56.0  70.0  \\\nage_categories    ...                                                     \n0-39              ...       0     0     0     0     0     0     0     0   \n40-60             ...       8    11     2     3     2     1     2     5   \n61-70             ...       0     0     0     1     0     0     0     0   \n70 plus           ...       0     0     0     0     0     0     0     0   \nTotal             ...       8    11     2     4     2     1     2     5   \n\nsmoke_per_day_qc  126.0  Total  \nage_categories                  \n0-39                  0    529  \n40-60                 1     64  \n61-70                 0  10665  \n70 plus               0    738  \nTotal                 1  11996  \n\n[5 rows x 35 columns]\n\n\n\n_____________ age_start_smoking_qc ____________\nage_start_smoking_qc  -999.0  -555.0  3.0  5.0  6.0  7.0  8.0  9.0  10.0  \\\nage_categories                                                             \n0-39                       2      43    0    0    0    0    0    0     1   \n40-60                   1046    7761    1    2    2    6    4    2    23   \n61-70                     95     525    0    0    0    0    0    0     1   \n70 plus                   81     424    0    0    0    0    0    0     0   \nTotal                   1224    8753    1    2    2    6    4    2    25   \n\nage_start_smoking_qc  11.0  ...    48.0  49.0  50.0  53.0  55.0  57.0  58.0  \\\nage_categories              ...                                               \n0-39                     0  ...       0     0     0     0     0     0     0   \n40-60                   11  ...       2     1     4     4     1     1     1   \n61-70                    1  ...       1     1     0     1     1     0     0   \n70 plus                  0  ...       0     0     0     0     0     1     0   \nTotal                   12  ...       3     2     4     5     2     2     1   \n\nage_start_smoking_qc  59.0  65.0  Total  \nage_categories                           \n0-39                     0     0    529  \n40-60                    0     0     64  \n61-70                    1     0  10665  \n70 plus                  0     1    738  \nTotal                    1     1  11996  \n\n[5 rows x 56 columns]\n\n\n\n_____________ year_stop_smoking_qc ____________\n",
      "year_stop_smoking_qc  -999.0  -555.0  1958.0  1960.0  1962.0  1963.0  1968.0  \\\nage_categories                                                                 \n0-39                       0      61       0       0       0       0       0   \n40-60                    425    9544       1       1       0       0       1   \n61-70                     85     603       0       1       1       0       0   \n70 plus                   73     451       0       0       0       2       0   \nTotal                    583   10659       1       2       1       2       1   \n\nyear_stop_smoking_qc  1969.0  1971.0  1972.0  ...    2009.0  2010.0  2011.0  \\\nage_categories                                ...                             \n0-39                       0       0       0  ...         0       0       0   \n40-60                      2       1       5  ...        14      47      15   \n61-70                      1       0       0  ...         1       0       0   \n70 plus                    1       0       0  ...         0       0       0   \nTotal                      4       1       5  ...        15      47      15   \n\nyear_stop_smoking_qc  2012.0  2013.0  2014.0  2015.0  2016.0  2017.0  Total  \nage_categories                                                               \n0-39                       1       0       0       1       0       0    529  \n40-60                     24      30      50      34       5       1     64  \n61-70                      1       1       5       2       2       0  10665  \n70 plus                    0       0       0       0       0       0    738  \nTotal                     26      31      55      37       7       1  11996  \n\n[5 rows x 55 columns]\n\n\n\n_____________ smokeless_tobacco_use_qc ____________\nsmokeless_tobacco_use_qc  -999.0  -555.0   0.0   1.0  Total\nage_categories                                             \n0-39                           3       0    53     8    529\n40-60                       2078       2  7489  1096     64\n61-70                          4       0   637    97  10665\n70 plus                        1       0   447    81    738\nTotal                       2086       2  8626  1282  11996\n\n\n\n_____________ snuff_use_qc ____________\nsnuff_use_qc     -555  -999    0    1  f  t  Total\nage_categories                                    \n0-39               56     0    3    5  0  0    529\n40-60            9567    13  682  403  6  1     64\n61-70             641     0   30   67  0  0  10672\n70 plus           448     0   23   58  0  0    738\nTotal           10712    13  738  533  6  1  12003\n\n\n\n_____________ snuff_method_nose_qc ____________\n",
      "snuff_method_nose_qc   -555    0    1  Total\nage_categories                              \n0-39                     59    1    4    529\n40-60                 10060  105  507     64\n61-70                   671   15   52  10672\n70 plus                 471   20   38    738\nTotal                 11261  141  601  12003\n\n\n\n_____________ snuff_method_mouth_qc ____________\nsnuff_method_mouth_qc   -555    0    1  Total\nage_categories                               \n0-39                      59    4    1    529\n40-60                  10060  519   93     64\n61-70                    671   52   15  10672\n70 plus                  471   36   22    738\nTotal                  11261  611  131  12003\n\n\n\n_____________ frequence_of_snuff_use_qc ____________\nfrequence_of_snuff_use_qc  -999.0  -555.0  1.0  2.0  3.0  4.0  5.0  Total\nage_categories                                                           \n0-39                            0      59    4    0    0    0    1    529\n40-60                           8   10060  318   47   82  124   27     64\n61-70                           0     671   51    2    9    5    0  10666\n70 plus                         0     471   52    0    2    4    0    738\nTotal                           8   11261  425   49   93  133   28  11997\n\n\n\n_____________ frequence_of_snuff_use_per_day_qc ____________\n",
      "frequence_of_snuff_use_per_day_qc  -999.0  -555.0  1.0  2.0  3.0  4.0  Total\nage_categories                                                              \n0-39                                    0      59    1    1    2    1    529\n40-60                                 203   10060  116   87  106   93     64\n61-70                                   0     671   13   10   14   30  10665\n70 plus                                 0     471    6    6   16   30    738\nTotal                                 203   11261  136  104  138  154  11996\n\n\n\n_____________ chewing_tobacco_use_qc ____________\nchewing_tobacco_use_qc  -999.0  -555.0  0.0  1.0  Total\nage_categories                                         \n0-39                         0      56    7    1    529\n40-60                       18    9569  541  537     64\n61-70                        0     641   97    0  10665\n70 plus                      0     448   81    0    738\nTotal                       18   10714  726  538  11996\n\n\n\n_____________ frequence_of_chewing_tobacco_use_qc ____________\n",
      "frequence_of_chewing_tobacco_use_qc  -999.0  -555.0  1.0  2.0  3.0  4.0  5.0  \\\nage_categories                                                                 \n0-39                                      0      63    1    0    0    0    0   \n40-60                                     4   10121  487    7   27   14    5   \n61-70                                     0     738    0    0    0    0    0   \n70 plus                                   0     529    0    0    0    0    0   \nTotal                                     4   11451  488    7   27   14    5   \n\nfrequence_of_chewing_tobacco_use_qc  Total  \nage_categories                              \n0-39                                   529  \n40-60                                   64  \n61-70                                10665  \n70 plus                                738  \nTotal                                11996  \n\n\n\n_____________ frequence_of_chewing_tobacco_use_per_day_qc ____________\nfrequence_of_chewing_tobacco_use_per_day_qc  -999.0  -555.0  1.0  2.0  3.0  \\\nage_categories                                                               \n0-39                                              0      63    0    0    0   \n40-60                                             8   10121   42  104  153   \n61-70                                             0     738    0    0    0   \n70 plus                                           0     529    0    0    0   \nTotal                                             8   11451   42  104  153   \n\nfrequence_of_chewing_tobacco_use_per_day_qc  4.0  Total  \nage_categories                                           \n0-39                                           1    529  \n40-60                                        237     64  \n61-70                                          0  10665  \n70 plus                                        0    738  \nTotal                                        238  11996  \n\n\n\n_____________ consume_alcohol_qc ____________\n",
      "consume_alcohol_qc  -999.0   0.0   1.0  2.0  Total\nage_categories                                    \n0-39                     1    24    39    0    529\n40-60                 1304  3396  5964    1     64\n61-70                    2   383   352    1  10665\n70 plus                  0   240   289    0    738\nTotal                 1307  4043  6644    2  11996\n\n\n\n_____________ current_alcohol_consumer_qc ____________\ncurrent_alcohol_consumer_qc  -999.0  -555.0   0.0   1.0  Total\nage_categories                                                \n0-39                              2      25    15    22    529\n40-60                           735    4698  1653  3579     64\n61-70                             1     385   175   177  10665\n70 plus                           0     240   143   146    738\nTotal                           738    5348  1986  3924  11996\n\n\n\n_____________ frequence_of_alcohol_consumption_qc ____________\n"
     ],
     "output_type": "stream"
    },
    {
     "traceback": [
      "\u001b[1;31m---------------------------------------------------------------------------\u001b[0m",
      "\u001b[1;31mKeyError\u001b[0m                                  Traceback (most recent call last)",
      "\u001b[1;32mc:\\users\\henry\\appdata\\local\\programs\\python\\python36\\lib\\site-packages\\pandas\\core\\indexes\\base.py\u001b[0m in \u001b[0;36mget_loc\u001b[1;34m(self, key, method, tolerance)\u001b[0m\n\u001b[0;32m   3077\u001b[0m             \u001b[1;32mtry\u001b[0m\u001b[1;33m:\u001b[0m\u001b[1;33m\u001b[0m\u001b[0m\n\u001b[1;32m-> 3078\u001b[1;33m                 \u001b[1;32mreturn\u001b[0m \u001b[0mself\u001b[0m\u001b[1;33m.\u001b[0m\u001b[0m_engine\u001b[0m\u001b[1;33m.\u001b[0m\u001b[0mget_loc\u001b[0m\u001b[1;33m(\u001b[0m\u001b[0mkey\u001b[0m\u001b[1;33m)\u001b[0m\u001b[1;33m\u001b[0m\u001b[0m\n\u001b[0m\u001b[0;32m   3079\u001b[0m             \u001b[1;32mexcept\u001b[0m \u001b[0mKeyError\u001b[0m\u001b[1;33m:\u001b[0m\u001b[1;33m\u001b[0m\u001b[0m\n",
      "\u001b[1;32mpandas\\_libs\\index.pyx\u001b[0m in \u001b[0;36mpandas._libs.index.IndexEngine.get_loc\u001b[1;34m()\u001b[0m\n",
      "\u001b[1;32mpandas\\_libs\\index.pyx\u001b[0m in \u001b[0;36mpandas._libs.index.IndexEngine.get_loc\u001b[1;34m()\u001b[0m\n",
      "\u001b[1;32mpandas\\_libs\\hashtable_class_helper.pxi\u001b[0m in \u001b[0;36mpandas._libs.hashtable.PyObjectHashTable.get_item\u001b[1;34m()\u001b[0m\n",
      "\u001b[1;32mpandas\\_libs\\hashtable_class_helper.pxi\u001b[0m in \u001b[0;36mpandas._libs.hashtable.PyObjectHashTable.get_item\u001b[1;34m()\u001b[0m\n",
      "\u001b[1;31mKeyError\u001b[0m: 'frequence_of_alcohol_consumption_qc'",
      "\nDuring handling of the above exception, another exception occurred:\n",
      "\u001b[1;31mKeyError\u001b[0m                                  Traceback (most recent call last)",
      "\u001b[1;32m<ipython-input-8-190556f71f52>\u001b[0m in \u001b[0;36m<module>\u001b[1;34m()\u001b[0m\n\u001b[1;32m----> 1\u001b[1;33m \u001b[0mdata_crosstabs\u001b[0m\u001b[1;33m.\u001b[0m\u001b[0mget_counts_cross_tabs\u001b[0m\u001b[1;33m(\u001b[0m\u001b[0mcodebook\u001b[0m\u001b[1;33m.\u001b[0m\u001b[0mget_lifestyle_cols\u001b[0m\u001b[1;33m(\u001b[0m\u001b[1;33m)\u001b[0m\u001b[1;33m,\u001b[0m \u001b[1;34m'age_categories'\u001b[0m\u001b[1;33m)\u001b[0m\u001b[1;33m\u001b[0m\u001b[0m\n\u001b[0m",
      "\u001b[1;32mE:\\development\\AWIGEN-1-Post-QC\\scripts\\Crosstabs.py\u001b[0m in \u001b[0;36mget_counts_cross_tabs\u001b[1;34m(self, list_of_cols, by_col)\u001b[0m\n\u001b[0;32m     18\u001b[0m         \u001b[1;32mfor\u001b[0m \u001b[0mcol\u001b[0m \u001b[1;32min\u001b[0m \u001b[0mlist_of_cols\u001b[0m\u001b[1;33m:\u001b[0m\u001b[1;33m\u001b[0m\u001b[0m\n\u001b[0;32m     19\u001b[0m             \u001b[0mprint\u001b[0m\u001b[1;33m(\u001b[0m\u001b[1;34m\"_____________\"\u001b[0m\u001b[1;33m,\u001b[0m \u001b[0mcol\u001b[0m\u001b[1;33m,\u001b[0m \u001b[1;34m\"____________\"\u001b[0m\u001b[1;33m)\u001b[0m\u001b[1;33m\u001b[0m\u001b[0m\n\u001b[1;32m---> 20\u001b[1;33m             \u001b[0mg\u001b[0m \u001b[1;33m=\u001b[0m \u001b[0mpd\u001b[0m\u001b[1;33m.\u001b[0m\u001b[0mcrosstab\u001b[0m\u001b[1;33m(\u001b[0m\u001b[0mself\u001b[0m\u001b[1;33m.\u001b[0m\u001b[0mdf\u001b[0m\u001b[1;33m[\u001b[0m\u001b[0mby_col\u001b[0m\u001b[1;33m]\u001b[0m\u001b[1;33m,\u001b[0m \u001b[0mself\u001b[0m\u001b[1;33m.\u001b[0m\u001b[0mdf\u001b[0m\u001b[1;33m[\u001b[0m\u001b[0mcol\u001b[0m\u001b[1;33m]\u001b[0m\u001b[1;33m,\u001b[0m \u001b[0mmargins\u001b[0m\u001b[1;33m=\u001b[0m\u001b[1;32mTrue\u001b[0m\u001b[1;33m,\u001b[0m \u001b[0mmargins_name\u001b[0m\u001b[1;33m=\u001b[0m\u001b[1;34m'Total'\u001b[0m\u001b[1;33m)\u001b[0m\u001b[1;33m\u001b[0m\u001b[0m\n\u001b[0m\u001b[0;32m     21\u001b[0m             \u001b[0mprint\u001b[0m\u001b[1;33m(\u001b[0m\u001b[0mg\u001b[0m\u001b[1;33m)\u001b[0m\u001b[1;33m\u001b[0m\u001b[0m\n\u001b[0;32m     22\u001b[0m             \u001b[0mprint\u001b[0m\u001b[1;33m(\u001b[0m\u001b[1;34m\"\\n\\n\"\u001b[0m\u001b[1;33m)\u001b[0m\u001b[1;33m\u001b[0m\u001b[0m\n",
      "\u001b[1;32mc:\\users\\henry\\appdata\\local\\programs\\python\\python36\\lib\\site-packages\\pandas\\core\\frame.py\u001b[0m in \u001b[0;36m__getitem__\u001b[1;34m(self, key)\u001b[0m\n\u001b[0;32m   2686\u001b[0m             \u001b[1;32mreturn\u001b[0m \u001b[0mself\u001b[0m\u001b[1;33m.\u001b[0m\u001b[0m_getitem_multilevel\u001b[0m\u001b[1;33m(\u001b[0m\u001b[0mkey\u001b[0m\u001b[1;33m)\u001b[0m\u001b[1;33m\u001b[0m\u001b[0m\n\u001b[0;32m   2687\u001b[0m         \u001b[1;32melse\u001b[0m\u001b[1;33m:\u001b[0m\u001b[1;33m\u001b[0m\u001b[0m\n\u001b[1;32m-> 2688\u001b[1;33m             \u001b[1;32mreturn\u001b[0m \u001b[0mself\u001b[0m\u001b[1;33m.\u001b[0m\u001b[0m_getitem_column\u001b[0m\u001b[1;33m(\u001b[0m\u001b[0mkey\u001b[0m\u001b[1;33m)\u001b[0m\u001b[1;33m\u001b[0m\u001b[0m\n\u001b[0m\u001b[0;32m   2689\u001b[0m \u001b[1;33m\u001b[0m\u001b[0m\n\u001b[0;32m   2690\u001b[0m     \u001b[1;32mdef\u001b[0m \u001b[0m_getitem_column\u001b[0m\u001b[1;33m(\u001b[0m\u001b[0mself\u001b[0m\u001b[1;33m,\u001b[0m \u001b[0mkey\u001b[0m\u001b[1;33m)\u001b[0m\u001b[1;33m:\u001b[0m\u001b[1;33m\u001b[0m\u001b[0m\n",
      "\u001b[1;32mc:\\users\\henry\\appdata\\local\\programs\\python\\python36\\lib\\site-packages\\pandas\\core\\frame.py\u001b[0m in \u001b[0;36m_getitem_column\u001b[1;34m(self, key)\u001b[0m\n\u001b[0;32m   2693\u001b[0m         \u001b[1;31m# get column\u001b[0m\u001b[1;33m\u001b[0m\u001b[1;33m\u001b[0m\u001b[0m\n\u001b[0;32m   2694\u001b[0m         \u001b[1;32mif\u001b[0m \u001b[0mself\u001b[0m\u001b[1;33m.\u001b[0m\u001b[0mcolumns\u001b[0m\u001b[1;33m.\u001b[0m\u001b[0mis_unique\u001b[0m\u001b[1;33m:\u001b[0m\u001b[1;33m\u001b[0m\u001b[0m\n\u001b[1;32m-> 2695\u001b[1;33m             \u001b[1;32mreturn\u001b[0m \u001b[0mself\u001b[0m\u001b[1;33m.\u001b[0m\u001b[0m_get_item_cache\u001b[0m\u001b[1;33m(\u001b[0m\u001b[0mkey\u001b[0m\u001b[1;33m)\u001b[0m\u001b[1;33m\u001b[0m\u001b[0m\n\u001b[0m\u001b[0;32m   2696\u001b[0m \u001b[1;33m\u001b[0m\u001b[0m\n\u001b[0;32m   2697\u001b[0m         \u001b[1;31m# duplicate columns & possible reduce dimensionality\u001b[0m\u001b[1;33m\u001b[0m\u001b[1;33m\u001b[0m\u001b[0m\n",
      "\u001b[1;32mc:\\users\\henry\\appdata\\local\\programs\\python\\python36\\lib\\site-packages\\pandas\\core\\generic.py\u001b[0m in \u001b[0;36m_get_item_cache\u001b[1;34m(self, item)\u001b[0m\n\u001b[0;32m   2487\u001b[0m         \u001b[0mres\u001b[0m \u001b[1;33m=\u001b[0m \u001b[0mcache\u001b[0m\u001b[1;33m.\u001b[0m\u001b[0mget\u001b[0m\u001b[1;33m(\u001b[0m\u001b[0mitem\u001b[0m\u001b[1;33m)\u001b[0m\u001b[1;33m\u001b[0m\u001b[0m\n\u001b[0;32m   2488\u001b[0m         \u001b[1;32mif\u001b[0m \u001b[0mres\u001b[0m \u001b[1;32mis\u001b[0m \u001b[1;32mNone\u001b[0m\u001b[1;33m:\u001b[0m\u001b[1;33m\u001b[0m\u001b[0m\n\u001b[1;32m-> 2489\u001b[1;33m             \u001b[0mvalues\u001b[0m \u001b[1;33m=\u001b[0m \u001b[0mself\u001b[0m\u001b[1;33m.\u001b[0m\u001b[0m_data\u001b[0m\u001b[1;33m.\u001b[0m\u001b[0mget\u001b[0m\u001b[1;33m(\u001b[0m\u001b[0mitem\u001b[0m\u001b[1;33m)\u001b[0m\u001b[1;33m\u001b[0m\u001b[0m\n\u001b[0m\u001b[0;32m   2490\u001b[0m             \u001b[0mres\u001b[0m \u001b[1;33m=\u001b[0m \u001b[0mself\u001b[0m\u001b[1;33m.\u001b[0m\u001b[0m_box_item_values\u001b[0m\u001b[1;33m(\u001b[0m\u001b[0mitem\u001b[0m\u001b[1;33m,\u001b[0m \u001b[0mvalues\u001b[0m\u001b[1;33m)\u001b[0m\u001b[1;33m\u001b[0m\u001b[0m\n\u001b[0;32m   2491\u001b[0m             \u001b[0mcache\u001b[0m\u001b[1;33m[\u001b[0m\u001b[0mitem\u001b[0m\u001b[1;33m]\u001b[0m \u001b[1;33m=\u001b[0m \u001b[0mres\u001b[0m\u001b[1;33m\u001b[0m\u001b[0m\n",
      "\u001b[1;32mc:\\users\\henry\\appdata\\local\\programs\\python\\python36\\lib\\site-packages\\pandas\\core\\internals.py\u001b[0m in \u001b[0;36mget\u001b[1;34m(self, item, fastpath)\u001b[0m\n\u001b[0;32m   4113\u001b[0m \u001b[1;33m\u001b[0m\u001b[0m\n\u001b[0;32m   4114\u001b[0m             \u001b[1;32mif\u001b[0m \u001b[1;32mnot\u001b[0m \u001b[0misna\u001b[0m\u001b[1;33m(\u001b[0m\u001b[0mitem\u001b[0m\u001b[1;33m)\u001b[0m\u001b[1;33m:\u001b[0m\u001b[1;33m\u001b[0m\u001b[0m\n\u001b[1;32m-> 4115\u001b[1;33m                 \u001b[0mloc\u001b[0m \u001b[1;33m=\u001b[0m \u001b[0mself\u001b[0m\u001b[1;33m.\u001b[0m\u001b[0mitems\u001b[0m\u001b[1;33m.\u001b[0m\u001b[0mget_loc\u001b[0m\u001b[1;33m(\u001b[0m\u001b[0mitem\u001b[0m\u001b[1;33m)\u001b[0m\u001b[1;33m\u001b[0m\u001b[0m\n\u001b[0m\u001b[0;32m   4116\u001b[0m             \u001b[1;32melse\u001b[0m\u001b[1;33m:\u001b[0m\u001b[1;33m\u001b[0m\u001b[0m\n\u001b[0;32m   4117\u001b[0m                 \u001b[0mindexer\u001b[0m \u001b[1;33m=\u001b[0m \u001b[0mnp\u001b[0m\u001b[1;33m.\u001b[0m\u001b[0marange\u001b[0m\u001b[1;33m(\u001b[0m\u001b[0mlen\u001b[0m\u001b[1;33m(\u001b[0m\u001b[0mself\u001b[0m\u001b[1;33m.\u001b[0m\u001b[0mitems\u001b[0m\u001b[1;33m)\u001b[0m\u001b[1;33m)\u001b[0m\u001b[1;33m[\u001b[0m\u001b[0misna\u001b[0m\u001b[1;33m(\u001b[0m\u001b[0mself\u001b[0m\u001b[1;33m.\u001b[0m\u001b[0mitems\u001b[0m\u001b[1;33m)\u001b[0m\u001b[1;33m]\u001b[0m\u001b[1;33m\u001b[0m\u001b[0m\n",
      "\u001b[1;32mc:\\users\\henry\\appdata\\local\\programs\\python\\python36\\lib\\site-packages\\pandas\\core\\indexes\\base.py\u001b[0m in \u001b[0;36mget_loc\u001b[1;34m(self, key, method, tolerance)\u001b[0m\n\u001b[0;32m   3078\u001b[0m                 \u001b[1;32mreturn\u001b[0m \u001b[0mself\u001b[0m\u001b[1;33m.\u001b[0m\u001b[0m_engine\u001b[0m\u001b[1;33m.\u001b[0m\u001b[0mget_loc\u001b[0m\u001b[1;33m(\u001b[0m\u001b[0mkey\u001b[0m\u001b[1;33m)\u001b[0m\u001b[1;33m\u001b[0m\u001b[0m\n\u001b[0;32m   3079\u001b[0m             \u001b[1;32mexcept\u001b[0m \u001b[0mKeyError\u001b[0m\u001b[1;33m:\u001b[0m\u001b[1;33m\u001b[0m\u001b[0m\n\u001b[1;32m-> 3080\u001b[1;33m                 \u001b[1;32mreturn\u001b[0m \u001b[0mself\u001b[0m\u001b[1;33m.\u001b[0m\u001b[0m_engine\u001b[0m\u001b[1;33m.\u001b[0m\u001b[0mget_loc\u001b[0m\u001b[1;33m(\u001b[0m\u001b[0mself\u001b[0m\u001b[1;33m.\u001b[0m\u001b[0m_maybe_cast_indexer\u001b[0m\u001b[1;33m(\u001b[0m\u001b[0mkey\u001b[0m\u001b[1;33m)\u001b[0m\u001b[1;33m)\u001b[0m\u001b[1;33m\u001b[0m\u001b[0m\n\u001b[0m\u001b[0;32m   3081\u001b[0m \u001b[1;33m\u001b[0m\u001b[0m\n\u001b[0;32m   3082\u001b[0m         \u001b[0mindexer\u001b[0m \u001b[1;33m=\u001b[0m \u001b[0mself\u001b[0m\u001b[1;33m.\u001b[0m\u001b[0mget_indexer\u001b[0m\u001b[1;33m(\u001b[0m\u001b[1;33m[\u001b[0m\u001b[0mkey\u001b[0m\u001b[1;33m]\u001b[0m\u001b[1;33m,\u001b[0m \u001b[0mmethod\u001b[0m\u001b[1;33m=\u001b[0m\u001b[0mmethod\u001b[0m\u001b[1;33m,\u001b[0m \u001b[0mtolerance\u001b[0m\u001b[1;33m=\u001b[0m\u001b[0mtolerance\u001b[0m\u001b[1;33m)\u001b[0m\u001b[1;33m\u001b[0m\u001b[0m\n",
      "\u001b[1;32mpandas\\_libs\\index.pyx\u001b[0m in \u001b[0;36mpandas._libs.index.IndexEngine.get_loc\u001b[1;34m()\u001b[0m\n",
      "\u001b[1;32mpandas\\_libs\\index.pyx\u001b[0m in \u001b[0;36mpandas._libs.index.IndexEngine.get_loc\u001b[1;34m()\u001b[0m\n",
      "\u001b[1;32mpandas\\_libs\\hashtable_class_helper.pxi\u001b[0m in \u001b[0;36mpandas._libs.hashtable.PyObjectHashTable.get_item\u001b[1;34m()\u001b[0m\n",
      "\u001b[1;32mpandas\\_libs\\hashtable_class_helper.pxi\u001b[0m in \u001b[0;36mpandas._libs.hashtable.PyObjectHashTable.get_item\u001b[1;34m()\u001b[0m\n",
      "\u001b[1;31mKeyError\u001b[0m: 'frequence_of_alcohol_consumption_qc'"
     ],
     "ename": "KeyError",
     "evalue": "'frequence_of_alcohol_consumption_qc'",
     "output_type": "error"
    }
   ],
   "source": [
    "data_crosstabs.get_counts_cross_tabs(codebook.get_lifestyle_cols(), 'age_categories')"
   ]
  },
  {
   "cell_type": "code",
   "execution_count": null,
   "metadata": {
    "pycharm": {
     "is_executing": false,
     "name": "#%%\n"
    }
   },
   "outputs": [],
   "source": [
    "data_crosstabs.get_counts_cross_tabs(codebook.get_exposure_cols(), 'age_categories')"
   ]
  },
  {
   "cell_type": "code",
   "execution_count": null,
   "metadata": {
    "pycharm": {
     "is_executing": false,
     "name": "#%%\n"
    }
   },
   "outputs": [],
   "source": [
    "# data_crosstabs.plot_histogram(codebook.get_exposure_cols())\n",
    "data['sex'].value_counts().plot(kind='bar')"
   ]
  },
  {
   "cell_type": "code",
   "execution_count": null,
   "metadata": {
    "pycharm": {
     "is_executing": false
    }
   },
   "outputs": [],
   "source": [
    "data['hiv_final_status_c'].value_counts().plot(kind='bar')"
   ]
  }
 ],
 "metadata": {
  "kernelspec": {
   "display_name": "Python 3",
   "language": "python",
   "name": "python3"
  },
  "language_info": {
   "codemirror_mode": {
    "name": "ipython",
    "version": 3
   },
   "file_extension": ".py",
   "mimetype": "text/x-python",
   "name": "python",
   "nbconvert_exporter": "python",
   "pygments_lexer": "ipython3",
   "version": "3.6.1"
  },
  "pycharm": {
   "stem_cell": {
    "cell_type": "raw",
    "source": [],
    "metadata": {
     "collapsed": false
    }
   }
  },
  "varInspector": {
   "cols": {
    "lenName": 16,
    "lenType": 16,
    "lenVar": 40
   },
   "kernels_config": {
    "python": {
     "delete_cmd_postfix": "",
     "delete_cmd_prefix": "del ",
     "library": "var_list.py",
     "varRefreshCmd": "print(var_dic_list())"
    },
    "r": {
     "delete_cmd_postfix": ") ",
     "delete_cmd_prefix": "rm(",
     "library": "var_list.r",
     "varRefreshCmd": "cat(var_dic_list()) "
    }
   },
   "types_to_exclude": [
    "module",
    "function",
    "builtin_function_or_method",
    "instance",
    "_Feature"
   ],
   "window_display": false
  }
 },
 "nbformat": 4,
 "nbformat_minor": 2
}